{
 "cells": [
  {
   "cell_type": "code",
   "execution_count": 1,
   "id": "8c18dffc",
   "metadata": {},
   "outputs": [
    {
     "name": "stdout",
     "output_type": "stream",
     "text": [
      "<class 'str'>\n",
      "<class 'str'>\n"
     ]
    }
   ],
   "source": [
    "import tkinter as tk\n",
    "from tkinter import ttk\n",
    "from tkinter import messagebox\n",
    "main=tk.Tk() # la 1 class\n",
    "main.title('Weight conversion')\n",
    "\n",
    "kg_input_var=tk.StringVar()\n",
    "\n",
    "def handle_click_convert_btn(event):\n",
    "    # convert\n",
    "    print (type (kg_input.get()))\n",
    "    try: \n",
    "        gram_val=float(kg_input_var.get()) *1000\n",
    "        pound_val=float(kg_input_var.get()) *2.20462\n",
    "        ounce_val=float(kg_input_var.get()) *35.274\n",
    "    except ValueError:\n",
    "        messagebox.showerror ('Error ', 'The input is invalid')\n",
    "        return\n",
    "    # change the output\n",
    "    gram_output.config(text=gram_val)\n",
    "    pound_output.config(text=pound_val)\n",
    "    ounce_output.config(text=ounce_val)\n",
    "# row 1\n",
    "kg_input_label=ttk.Label (main, text ='Enter the weight in kg')\n",
    "kg_input = ttk.Entry(main, textvariable = kg_input_var)\n",
    "convert_btn=ttk.Button (main, text ='Convert')\n",
    "\n",
    "convert_btn.bind('<Button-1>', handle_click_convert_btn)\n",
    "\n",
    "kg_input_label.grid (row=0, column=0)\n",
    "kg_input.grid (row=0, column =1)\n",
    "convert_btn.grid(row=0, column=2)\n",
    "\n",
    "# row 2\n",
    "kg_output_label =ttk.Label (main, text =' Gram')\n",
    "pound_output_label=ttk.Label (main, text ='Pound')\n",
    "ounce_output_label =ttk.Label (main, text ='Ounce')\n",
    "\n",
    "kg_output_label.grid (row=1, column=0)\n",
    "pound_output_label.grid (row=1, column=1)\n",
    "ounce_output_label.grid (row=1, column=2)\n",
    "\n",
    "# row 3\n",
    "gram_output=ttk.Label (main, text ='0')\n",
    "pound_output=ttk.Label (main, text ='0')\n",
    "ounce_output=ttk.Label (main, text='0')\n",
    "\n",
    "gram_output.grid (row=2, column=0)\n",
    "pound_output.grid(row=2, column=1)\n",
    "ounce_output.grid(row=2, column=2)\n",
    "\n",
    "\n",
    "\n",
    "main.mainloop()"
   ]
  }
 ],
 "metadata": {
  "kernelspec": {
   "display_name": "Python 3 (ipykernel)",
   "language": "python",
   "name": "python3"
  },
  "language_info": {
   "codemirror_mode": {
    "name": "ipython",
    "version": 3
   },
   "file_extension": ".py",
   "mimetype": "text/x-python",
   "name": "python",
   "nbconvert_exporter": "python",
   "pygments_lexer": "ipython3",
   "version": "3.9.12"
  }
 },
 "nbformat": 4,
 "nbformat_minor": 5
}
